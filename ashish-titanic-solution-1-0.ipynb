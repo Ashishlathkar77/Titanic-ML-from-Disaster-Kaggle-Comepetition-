{
 "cells": [
  {
   "cell_type": "code",
   "execution_count": 1,
   "metadata": {
    "_cell_guid": "b1076dfc-b9ad-4769-8c92-a6c4dae69d19",
    "_uuid": "8f2839f25d086af736a60e9eeb907d3b93b6e0e5",
    "execution": {
     "iopub.execute_input": "2021-09-20T09:24:31.230767Z",
     "iopub.status.busy": "2021-09-20T09:24:31.229554Z",
     "iopub.status.idle": "2021-09-20T09:24:31.245150Z",
     "shell.execute_reply": "2021-09-20T09:24:31.245770Z",
     "shell.execute_reply.started": "2021-09-20T09:17:19.591303Z"
    },
    "papermill": {
     "duration": 0.046555,
     "end_time": "2021-09-20T09:24:31.246080",
     "exception": false,
     "start_time": "2021-09-20T09:24:31.199525",
     "status": "completed"
    },
    "tags": []
   },
   "outputs": [
    {
     "name": "stdout",
     "output_type": "stream",
     "text": [
      "/kaggle/input/titanic/train.csv\n",
      "/kaggle/input/titanic/test.csv\n",
      "/kaggle/input/titanic/gender_submission.csv\n"
     ]
    }
   ],
   "source": [
    "# This Python 3 environment comes with many helpful analytics libraries installed\n",
    "# It is defined by the kaggle/python Docker image: https://github.com/kaggle/docker-python\n",
    "# For example, here's several helpful packages to load\n",
    "\n",
    "import numpy as np # linear algebra\n",
    "import pandas as pd # data processing, CSV file I/O (e.g. pd.read_csv)\n",
    "\n",
    "# Input data files are available in the read-only \"../input/\" directory\n",
    "# For example, running this (by clicking run or pressing Shift+Enter) will list all files under the input directory\n",
    "\n",
    "import os\n",
    "for dirname, _, filenames in os.walk('/kaggle/input'):\n",
    "    for filename in filenames:\n",
    "        print(os.path.join(dirname, filename))\n",
    "\n",
    "# You can write up to 20GB to the current directory (/kaggle/working/) that gets preserved as output when you create a version using \"Save & Run All\" \n",
    "# You can also write temporary files to /kaggle/temp/, but they won't be saved outside of the current session"
   ]
  },
  {
   "cell_type": "code",
   "execution_count": 2,
   "metadata": {
    "execution": {
     "iopub.execute_input": "2021-09-20T09:24:31.300007Z",
     "iopub.status.busy": "2021-09-20T09:24:31.299349Z",
     "iopub.status.idle": "2021-09-20T09:24:31.342717Z",
     "shell.execute_reply": "2021-09-20T09:24:31.343246Z",
     "shell.execute_reply.started": "2021-09-20T09:17:19.604823Z"
    },
    "papermill": {
     "duration": 0.071941,
     "end_time": "2021-09-20T09:24:31.343446",
     "exception": false,
     "start_time": "2021-09-20T09:24:31.271505",
     "status": "completed"
    },
    "tags": []
   },
   "outputs": [
    {
     "name": "stdout",
     "output_type": "stream",
     "text": [
      "********** Dataset Information **********\n",
      "<class 'pandas.core.frame.DataFrame'>\n",
      "RangeIndex: 891 entries, 0 to 890\n",
      "Data columns (total 12 columns):\n",
      " #   Column       Non-Null Count  Dtype  \n",
      "---  ------       --------------  -----  \n",
      " 0   PassengerId  891 non-null    int64  \n",
      " 1   Survived     891 non-null    int64  \n",
      " 2   Pclass       891 non-null    int64  \n",
      " 3   Name         891 non-null    object \n",
      " 4   Sex          891 non-null    object \n",
      " 5   Age          714 non-null    float64\n",
      " 6   SibSp        891 non-null    int64  \n",
      " 7   Parch        891 non-null    int64  \n",
      " 8   Ticket       891 non-null    object \n",
      " 9   Fare         891 non-null    float64\n",
      " 10  Cabin        204 non-null    object \n",
      " 11  Embarked     889 non-null    object \n",
      "dtypes: float64(2), int64(5), object(5)\n",
      "memory usage: 83.7+ KB\n",
      "None\n"
     ]
    }
   ],
   "source": [
    "train_df = pd.read_csv(\"/kaggle/input/titanic/train.csv\")\n",
    "print(\"*\"*10, \"Dataset Information\", \"*\"*10)\n",
    "print(train_df.info())"
   ]
  },
  {
   "cell_type": "code",
   "execution_count": 3,
   "metadata": {
    "execution": {
     "iopub.execute_input": "2021-09-20T09:24:31.401269Z",
     "iopub.status.busy": "2021-09-20T09:24:31.400647Z",
     "iopub.status.idle": "2021-09-20T09:24:31.421208Z",
     "shell.execute_reply": "2021-09-20T09:24:31.420651Z",
     "shell.execute_reply.started": "2021-09-20T09:17:19.636070Z"
    },
    "papermill": {
     "duration": 0.053581,
     "end_time": "2021-09-20T09:24:31.421388",
     "exception": false,
     "start_time": "2021-09-20T09:24:31.367807",
     "status": "completed"
    },
    "tags": []
   },
   "outputs": [
    {
     "data": {
      "text/html": [
       "<div>\n",
       "<style scoped>\n",
       "    .dataframe tbody tr th:only-of-type {\n",
       "        vertical-align: middle;\n",
       "    }\n",
       "\n",
       "    .dataframe tbody tr th {\n",
       "        vertical-align: top;\n",
       "    }\n",
       "\n",
       "    .dataframe thead th {\n",
       "        text-align: right;\n",
       "    }\n",
       "</style>\n",
       "<table border=\"1\" class=\"dataframe\">\n",
       "  <thead>\n",
       "    <tr style=\"text-align: right;\">\n",
       "      <th></th>\n",
       "      <th>PassengerId</th>\n",
       "      <th>Survived</th>\n",
       "      <th>Pclass</th>\n",
       "      <th>Name</th>\n",
       "      <th>Sex</th>\n",
       "      <th>Age</th>\n",
       "      <th>SibSp</th>\n",
       "      <th>Parch</th>\n",
       "      <th>Ticket</th>\n",
       "      <th>Fare</th>\n",
       "      <th>Cabin</th>\n",
       "      <th>Embarked</th>\n",
       "    </tr>\n",
       "  </thead>\n",
       "  <tbody>\n",
       "    <tr>\n",
       "      <th>0</th>\n",
       "      <td>1</td>\n",
       "      <td>0</td>\n",
       "      <td>3</td>\n",
       "      <td>Braund, Mr. Owen Harris</td>\n",
       "      <td>male</td>\n",
       "      <td>22.0</td>\n",
       "      <td>1</td>\n",
       "      <td>0</td>\n",
       "      <td>A/5 21171</td>\n",
       "      <td>7.2500</td>\n",
       "      <td>NaN</td>\n",
       "      <td>S</td>\n",
       "    </tr>\n",
       "    <tr>\n",
       "      <th>1</th>\n",
       "      <td>2</td>\n",
       "      <td>1</td>\n",
       "      <td>1</td>\n",
       "      <td>Cumings, Mrs. John Bradley (Florence Briggs Th...</td>\n",
       "      <td>female</td>\n",
       "      <td>38.0</td>\n",
       "      <td>1</td>\n",
       "      <td>0</td>\n",
       "      <td>PC 17599</td>\n",
       "      <td>71.2833</td>\n",
       "      <td>C85</td>\n",
       "      <td>C</td>\n",
       "    </tr>\n",
       "    <tr>\n",
       "      <th>2</th>\n",
       "      <td>3</td>\n",
       "      <td>1</td>\n",
       "      <td>3</td>\n",
       "      <td>Heikkinen, Miss. Laina</td>\n",
       "      <td>female</td>\n",
       "      <td>26.0</td>\n",
       "      <td>0</td>\n",
       "      <td>0</td>\n",
       "      <td>STON/O2. 3101282</td>\n",
       "      <td>7.9250</td>\n",
       "      <td>NaN</td>\n",
       "      <td>S</td>\n",
       "    </tr>\n",
       "    <tr>\n",
       "      <th>3</th>\n",
       "      <td>4</td>\n",
       "      <td>1</td>\n",
       "      <td>1</td>\n",
       "      <td>Futrelle, Mrs. Jacques Heath (Lily May Peel)</td>\n",
       "      <td>female</td>\n",
       "      <td>35.0</td>\n",
       "      <td>1</td>\n",
       "      <td>0</td>\n",
       "      <td>113803</td>\n",
       "      <td>53.1000</td>\n",
       "      <td>C123</td>\n",
       "      <td>S</td>\n",
       "    </tr>\n",
       "    <tr>\n",
       "      <th>4</th>\n",
       "      <td>5</td>\n",
       "      <td>0</td>\n",
       "      <td>3</td>\n",
       "      <td>Allen, Mr. William Henry</td>\n",
       "      <td>male</td>\n",
       "      <td>35.0</td>\n",
       "      <td>0</td>\n",
       "      <td>0</td>\n",
       "      <td>373450</td>\n",
       "      <td>8.0500</td>\n",
       "      <td>NaN</td>\n",
       "      <td>S</td>\n",
       "    </tr>\n",
       "  </tbody>\n",
       "</table>\n",
       "</div>"
      ],
      "text/plain": [
       "   PassengerId  Survived  Pclass  \\\n",
       "0            1         0       3   \n",
       "1            2         1       1   \n",
       "2            3         1       3   \n",
       "3            4         1       1   \n",
       "4            5         0       3   \n",
       "\n",
       "                                                Name     Sex   Age  SibSp  \\\n",
       "0                            Braund, Mr. Owen Harris    male  22.0      1   \n",
       "1  Cumings, Mrs. John Bradley (Florence Briggs Th...  female  38.0      1   \n",
       "2                             Heikkinen, Miss. Laina  female  26.0      0   \n",
       "3       Futrelle, Mrs. Jacques Heath (Lily May Peel)  female  35.0      1   \n",
       "4                           Allen, Mr. William Henry    male  35.0      0   \n",
       "\n",
       "   Parch            Ticket     Fare Cabin Embarked  \n",
       "0      0         A/5 21171   7.2500   NaN        S  \n",
       "1      0          PC 17599  71.2833   C85        C  \n",
       "2      0  STON/O2. 3101282   7.9250   NaN        S  \n",
       "3      0            113803  53.1000  C123        S  \n",
       "4      0            373450   8.0500   NaN        S  "
      ]
     },
     "execution_count": 3,
     "metadata": {},
     "output_type": "execute_result"
    }
   ],
   "source": [
    "train_df.head()"
   ]
  },
  {
   "cell_type": "code",
   "execution_count": 4,
   "metadata": {
    "execution": {
     "iopub.execute_input": "2021-09-20T09:24:31.478801Z",
     "iopub.status.busy": "2021-09-20T09:24:31.478134Z",
     "iopub.status.idle": "2021-09-20T09:24:31.500279Z",
     "shell.execute_reply": "2021-09-20T09:24:31.499581Z",
     "shell.execute_reply.started": "2021-09-20T09:17:19.654166Z"
    },
    "papermill": {
     "duration": 0.05302,
     "end_time": "2021-09-20T09:24:31.500440",
     "exception": false,
     "start_time": "2021-09-20T09:24:31.447420",
     "status": "completed"
    },
    "tags": []
   },
   "outputs": [
    {
     "name": "stdout",
     "output_type": "stream",
     "text": [
      "<class 'pandas.core.frame.DataFrame'>\n",
      "RangeIndex: 418 entries, 0 to 417\n",
      "Data columns (total 11 columns):\n",
      " #   Column       Non-Null Count  Dtype  \n",
      "---  ------       --------------  -----  \n",
      " 0   PassengerId  418 non-null    int64  \n",
      " 1   Pclass       418 non-null    int64  \n",
      " 2   Name         418 non-null    object \n",
      " 3   Sex          418 non-null    object \n",
      " 4   Age          332 non-null    float64\n",
      " 5   SibSp        418 non-null    int64  \n",
      " 6   Parch        418 non-null    int64  \n",
      " 7   Ticket       418 non-null    object \n",
      " 8   Fare         417 non-null    float64\n",
      " 9   Cabin        91 non-null     object \n",
      " 10  Embarked     418 non-null    object \n",
      "dtypes: float64(2), int64(4), object(5)\n",
      "memory usage: 36.0+ KB\n",
      "None\n"
     ]
    }
   ],
   "source": [
    "test_df = pd.read_csv(\"/kaggle/input/titanic/test.csv\")\n",
    "print(test_df.info())"
   ]
  },
  {
   "cell_type": "code",
   "execution_count": 5,
   "metadata": {
    "execution": {
     "iopub.execute_input": "2021-09-20T09:24:31.558286Z",
     "iopub.status.busy": "2021-09-20T09:24:31.557364Z",
     "iopub.status.idle": "2021-09-20T09:24:31.569841Z",
     "shell.execute_reply": "2021-09-20T09:24:31.570468Z",
     "shell.execute_reply.started": "2021-09-20T09:17:19.684781Z"
    },
    "papermill": {
     "duration": 0.044555,
     "end_time": "2021-09-20T09:24:31.570704",
     "exception": false,
     "start_time": "2021-09-20T09:24:31.526149",
     "status": "completed"
    },
    "tags": []
   },
   "outputs": [
    {
     "name": "stdout",
     "output_type": "stream",
     "text": [
      "<class 'pandas.core.frame.DataFrame'>\n",
      "RangeIndex: 891 entries, 0 to 890\n",
      "Data columns (total 12 columns):\n",
      " #   Column       Non-Null Count  Dtype  \n",
      "---  ------       --------------  -----  \n",
      " 0   PassengerId  891 non-null    int64  \n",
      " 1   Survived     891 non-null    int64  \n",
      " 2   Pclass       891 non-null    int64  \n",
      " 3   Name         891 non-null    object \n",
      " 4   Sex          891 non-null    object \n",
      " 5   Age          714 non-null    float64\n",
      " 6   SibSp        891 non-null    int64  \n",
      " 7   Parch        891 non-null    int64  \n",
      " 8   Ticket       891 non-null    object \n",
      " 9   Fare         891 non-null    float64\n",
      " 10  Cabin        204 non-null    object \n",
      " 11  Embarked     889 non-null    object \n",
      "dtypes: float64(2), int64(5), object(5)\n",
      "memory usage: 83.7+ KB\n"
     ]
    }
   ],
   "source": [
    "train_df.info()"
   ]
  },
  {
   "cell_type": "code",
   "execution_count": 6,
   "metadata": {
    "execution": {
     "iopub.execute_input": "2021-09-20T09:24:31.631479Z",
     "iopub.status.busy": "2021-09-20T09:24:31.626355Z",
     "iopub.status.idle": "2021-09-20T09:24:31.635273Z",
     "shell.execute_reply": "2021-09-20T09:24:31.635757Z",
     "shell.execute_reply.started": "2021-09-20T09:17:19.700524Z"
    },
    "papermill": {
     "duration": 0.038901,
     "end_time": "2021-09-20T09:24:31.635953",
     "exception": false,
     "start_time": "2021-09-20T09:24:31.597052",
     "status": "completed"
    },
    "tags": []
   },
   "outputs": [
    {
     "data": {
      "text/plain": [
       "0    549\n",
       "1    342\n",
       "Name: Survived, dtype: int64"
      ]
     },
     "execution_count": 6,
     "metadata": {},
     "output_type": "execute_result"
    }
   ],
   "source": [
    "train_df.Survived.value_counts()"
   ]
  },
  {
   "cell_type": "code",
   "execution_count": 7,
   "metadata": {
    "execution": {
     "iopub.execute_input": "2021-09-20T09:24:31.697472Z",
     "iopub.status.busy": "2021-09-20T09:24:31.696571Z",
     "iopub.status.idle": "2021-09-20T09:24:31.700778Z",
     "shell.execute_reply": "2021-09-20T09:24:31.700215Z",
     "shell.execute_reply.started": "2021-09-20T09:17:19.715969Z"
    },
    "papermill": {
     "duration": 0.038617,
     "end_time": "2021-09-20T09:24:31.700919",
     "exception": false,
     "start_time": "2021-09-20T09:24:31.662302",
     "status": "completed"
    },
    "tags": []
   },
   "outputs": [
    {
     "data": {
      "text/plain": [
       "3    491\n",
       "1    216\n",
       "2    184\n",
       "Name: Pclass, dtype: int64"
      ]
     },
     "execution_count": 7,
     "metadata": {},
     "output_type": "execute_result"
    }
   ],
   "source": [
    "train_df.Pclass.value_counts()"
   ]
  },
  {
   "cell_type": "code",
   "execution_count": 8,
   "metadata": {
    "execution": {
     "iopub.execute_input": "2021-09-20T09:24:31.763011Z",
     "iopub.status.busy": "2021-09-20T09:24:31.762218Z",
     "iopub.status.idle": "2021-09-20T09:24:31.766062Z",
     "shell.execute_reply": "2021-09-20T09:24:31.765464Z",
     "shell.execute_reply.started": "2021-09-20T09:17:19.728769Z"
    },
    "papermill": {
     "duration": 0.038731,
     "end_time": "2021-09-20T09:24:31.766200",
     "exception": false,
     "start_time": "2021-09-20T09:24:31.727469",
     "status": "completed"
    },
    "tags": []
   },
   "outputs": [
    {
     "data": {
      "text/plain": [
       "male      577\n",
       "female    314\n",
       "Name: Sex, dtype: int64"
      ]
     },
     "execution_count": 8,
     "metadata": {},
     "output_type": "execute_result"
    }
   ],
   "source": [
    "train_df.Sex.value_counts()"
   ]
  },
  {
   "cell_type": "code",
   "execution_count": 9,
   "metadata": {
    "execution": {
     "iopub.execute_input": "2021-09-20T09:24:31.827399Z",
     "iopub.status.busy": "2021-09-20T09:24:31.823907Z",
     "iopub.status.idle": "2021-09-20T09:24:31.834907Z",
     "shell.execute_reply": "2021-09-20T09:24:31.834238Z",
     "shell.execute_reply.started": "2021-09-20T09:17:19.743532Z"
    },
    "papermill": {
     "duration": 0.042032,
     "end_time": "2021-09-20T09:24:31.835079",
     "exception": false,
     "start_time": "2021-09-20T09:24:31.793047",
     "status": "completed"
    },
    "tags": []
   },
   "outputs": [],
   "source": [
    "train_df.drop(['Name', 'Age', 'Ticket', 'Fare', 'Cabin'], inplace=True, axis=1)\n",
    "test_df.drop(['Name', 'Age', 'Ticket', 'Fare', 'Cabin'], inplace=True, axis=1)"
   ]
  },
  {
   "cell_type": "code",
   "execution_count": 10,
   "metadata": {
    "execution": {
     "iopub.execute_input": "2021-09-20T09:24:31.894012Z",
     "iopub.status.busy": "2021-09-20T09:24:31.893090Z",
     "iopub.status.idle": "2021-09-20T09:24:31.902845Z",
     "shell.execute_reply": "2021-09-20T09:24:31.903461Z",
     "shell.execute_reply.started": "2021-09-20T09:17:19.761491Z"
    },
    "papermill": {
     "duration": 0.041092,
     "end_time": "2021-09-20T09:24:31.903672",
     "exception": false,
     "start_time": "2021-09-20T09:24:31.862580",
     "status": "completed"
    },
    "tags": []
   },
   "outputs": [
    {
     "data": {
      "text/html": [
       "<div>\n",
       "<style scoped>\n",
       "    .dataframe tbody tr th:only-of-type {\n",
       "        vertical-align: middle;\n",
       "    }\n",
       "\n",
       "    .dataframe tbody tr th {\n",
       "        vertical-align: top;\n",
       "    }\n",
       "\n",
       "    .dataframe thead th {\n",
       "        text-align: right;\n",
       "    }\n",
       "</style>\n",
       "<table border=\"1\" class=\"dataframe\">\n",
       "  <thead>\n",
       "    <tr style=\"text-align: right;\">\n",
       "      <th></th>\n",
       "      <th>PassengerId</th>\n",
       "      <th>Survived</th>\n",
       "      <th>Pclass</th>\n",
       "      <th>Sex</th>\n",
       "      <th>SibSp</th>\n",
       "      <th>Parch</th>\n",
       "      <th>Embarked</th>\n",
       "    </tr>\n",
       "  </thead>\n",
       "  <tbody>\n",
       "    <tr>\n",
       "      <th>0</th>\n",
       "      <td>1</td>\n",
       "      <td>0</td>\n",
       "      <td>3</td>\n",
       "      <td>male</td>\n",
       "      <td>1</td>\n",
       "      <td>0</td>\n",
       "      <td>S</td>\n",
       "    </tr>\n",
       "    <tr>\n",
       "      <th>1</th>\n",
       "      <td>2</td>\n",
       "      <td>1</td>\n",
       "      <td>1</td>\n",
       "      <td>female</td>\n",
       "      <td>1</td>\n",
       "      <td>0</td>\n",
       "      <td>C</td>\n",
       "    </tr>\n",
       "    <tr>\n",
       "      <th>2</th>\n",
       "      <td>3</td>\n",
       "      <td>1</td>\n",
       "      <td>3</td>\n",
       "      <td>female</td>\n",
       "      <td>0</td>\n",
       "      <td>0</td>\n",
       "      <td>S</td>\n",
       "    </tr>\n",
       "    <tr>\n",
       "      <th>3</th>\n",
       "      <td>4</td>\n",
       "      <td>1</td>\n",
       "      <td>1</td>\n",
       "      <td>female</td>\n",
       "      <td>1</td>\n",
       "      <td>0</td>\n",
       "      <td>S</td>\n",
       "    </tr>\n",
       "    <tr>\n",
       "      <th>4</th>\n",
       "      <td>5</td>\n",
       "      <td>0</td>\n",
       "      <td>3</td>\n",
       "      <td>male</td>\n",
       "      <td>0</td>\n",
       "      <td>0</td>\n",
       "      <td>S</td>\n",
       "    </tr>\n",
       "  </tbody>\n",
       "</table>\n",
       "</div>"
      ],
      "text/plain": [
       "   PassengerId  Survived  Pclass     Sex  SibSp  Parch Embarked\n",
       "0            1         0       3    male      1      0        S\n",
       "1            2         1       1  female      1      0        C\n",
       "2            3         1       3  female      0      0        S\n",
       "3            4         1       1  female      1      0        S\n",
       "4            5         0       3    male      0      0        S"
      ]
     },
     "execution_count": 10,
     "metadata": {},
     "output_type": "execute_result"
    }
   ],
   "source": [
    "train_df.head()"
   ]
  },
  {
   "cell_type": "code",
   "execution_count": 11,
   "metadata": {
    "execution": {
     "iopub.execute_input": "2021-09-20T09:24:31.963200Z",
     "iopub.status.busy": "2021-09-20T09:24:31.962552Z",
     "iopub.status.idle": "2021-09-20T09:24:31.973092Z",
     "shell.execute_reply": "2021-09-20T09:24:31.973750Z",
     "shell.execute_reply.started": "2021-09-20T09:17:19.778254Z"
    },
    "papermill": {
     "duration": 0.041849,
     "end_time": "2021-09-20T09:24:31.973956",
     "exception": false,
     "start_time": "2021-09-20T09:24:31.932107",
     "status": "completed"
    },
    "tags": []
   },
   "outputs": [
    {
     "name": "stdout",
     "output_type": "stream",
     "text": [
      "<class 'pandas.core.frame.DataFrame'>\n",
      "RangeIndex: 891 entries, 0 to 890\n",
      "Data columns (total 7 columns):\n",
      " #   Column       Non-Null Count  Dtype \n",
      "---  ------       --------------  ----- \n",
      " 0   PassengerId  891 non-null    int64 \n",
      " 1   Survived     891 non-null    int64 \n",
      " 2   Pclass       891 non-null    int64 \n",
      " 3   Sex          891 non-null    object\n",
      " 4   SibSp        891 non-null    int64 \n",
      " 5   Parch        891 non-null    int64 \n",
      " 6   Embarked     889 non-null    object\n",
      "dtypes: int64(5), object(2)\n",
      "memory usage: 48.9+ KB\n"
     ]
    }
   ],
   "source": [
    "train_df.info()"
   ]
  },
  {
   "cell_type": "code",
   "execution_count": 12,
   "metadata": {
    "execution": {
     "iopub.execute_input": "2021-09-20T09:24:32.049125Z",
     "iopub.status.busy": "2021-09-20T09:24:32.048083Z",
     "iopub.status.idle": "2021-09-20T09:24:32.060204Z",
     "shell.execute_reply": "2021-09-20T09:24:32.059299Z",
     "shell.execute_reply.started": "2021-09-20T09:17:19.796751Z"
    },
    "papermill": {
     "duration": 0.056796,
     "end_time": "2021-09-20T09:24:32.060464",
     "exception": false,
     "start_time": "2021-09-20T09:24:32.003668",
     "status": "completed"
    },
    "tags": []
   },
   "outputs": [
    {
     "data": {
      "text/plain": [
       "S    644\n",
       "C    168\n",
       "Q     77\n",
       "Name: Embarked, dtype: int64"
      ]
     },
     "execution_count": 12,
     "metadata": {},
     "output_type": "execute_result"
    }
   ],
   "source": [
    "train_df.Embarked.value_counts()"
   ]
  },
  {
   "cell_type": "code",
   "execution_count": 13,
   "metadata": {
    "execution": {
     "iopub.execute_input": "2021-09-20T09:24:32.137966Z",
     "iopub.status.busy": "2021-09-20T09:24:32.137179Z",
     "iopub.status.idle": "2021-09-20T09:24:32.141520Z",
     "shell.execute_reply": "2021-09-20T09:24:32.142351Z",
     "shell.execute_reply.started": "2021-09-20T09:17:19.811496Z"
    },
    "papermill": {
     "duration": 0.046152,
     "end_time": "2021-09-20T09:24:32.142581",
     "exception": false,
     "start_time": "2021-09-20T09:24:32.096429",
     "status": "completed"
    },
    "tags": []
   },
   "outputs": [],
   "source": [
    "#Embarked null fix\n",
    "data = [train_df, test_df]\n",
    "\n",
    "for dataset in data:\n",
    "    dataset.Embarked = dataset.Embarked.fillna('S')"
   ]
  },
  {
   "cell_type": "code",
   "execution_count": 14,
   "metadata": {
    "execution": {
     "iopub.execute_input": "2021-09-20T09:24:32.211476Z",
     "iopub.status.busy": "2021-09-20T09:24:32.210773Z",
     "iopub.status.idle": "2021-09-20T09:24:32.221605Z",
     "shell.execute_reply": "2021-09-20T09:24:32.222132Z",
     "shell.execute_reply.started": "2021-09-20T09:17:19.825467Z"
    },
    "papermill": {
     "duration": 0.045052,
     "end_time": "2021-09-20T09:24:32.222352",
     "exception": false,
     "start_time": "2021-09-20T09:24:32.177300",
     "status": "completed"
    },
    "tags": []
   },
   "outputs": [
    {
     "name": "stdout",
     "output_type": "stream",
     "text": [
      "<class 'pandas.core.frame.DataFrame'>\n",
      "RangeIndex: 891 entries, 0 to 890\n",
      "Data columns (total 7 columns):\n",
      " #   Column       Non-Null Count  Dtype \n",
      "---  ------       --------------  ----- \n",
      " 0   PassengerId  891 non-null    int64 \n",
      " 1   Survived     891 non-null    int64 \n",
      " 2   Pclass       891 non-null    int64 \n",
      " 3   Sex          891 non-null    object\n",
      " 4   SibSp        891 non-null    int64 \n",
      " 5   Parch        891 non-null    int64 \n",
      " 6   Embarked     891 non-null    object\n",
      "dtypes: int64(5), object(2)\n",
      "memory usage: 48.9+ KB\n"
     ]
    }
   ],
   "source": [
    "train_df.info()"
   ]
  },
  {
   "cell_type": "code",
   "execution_count": 15,
   "metadata": {
    "execution": {
     "iopub.execute_input": "2021-09-20T09:24:32.284056Z",
     "iopub.status.busy": "2021-09-20T09:24:32.283310Z",
     "iopub.status.idle": "2021-09-20T09:24:32.295447Z",
     "shell.execute_reply": "2021-09-20T09:24:32.294420Z",
     "shell.execute_reply.started": "2021-09-20T09:17:19.846794Z"
    },
    "papermill": {
     "duration": 0.04377,
     "end_time": "2021-09-20T09:24:32.295644",
     "exception": false,
     "start_time": "2021-09-20T09:24:32.251874",
     "status": "completed"
    },
    "tags": []
   },
   "outputs": [
    {
     "name": "stdout",
     "output_type": "stream",
     "text": [
      "<class 'pandas.core.frame.DataFrame'>\n",
      "RangeIndex: 418 entries, 0 to 417\n",
      "Data columns (total 6 columns):\n",
      " #   Column       Non-Null Count  Dtype \n",
      "---  ------       --------------  ----- \n",
      " 0   PassengerId  418 non-null    int64 \n",
      " 1   Pclass       418 non-null    int64 \n",
      " 2   Sex          418 non-null    object\n",
      " 3   SibSp        418 non-null    int64 \n",
      " 4   Parch        418 non-null    int64 \n",
      " 5   Embarked     418 non-null    object\n",
      "dtypes: int64(4), object(2)\n",
      "memory usage: 19.7+ KB\n"
     ]
    }
   ],
   "source": [
    "test_df.info()"
   ]
  },
  {
   "cell_type": "code",
   "execution_count": 16,
   "metadata": {
    "execution": {
     "iopub.execute_input": "2021-09-20T09:24:32.364040Z",
     "iopub.status.busy": "2021-09-20T09:24:32.363153Z",
     "iopub.status.idle": "2021-09-20T09:24:32.366376Z",
     "shell.execute_reply": "2021-09-20T09:24:32.365816Z",
     "shell.execute_reply.started": "2021-09-20T09:17:19.865430Z"
    },
    "papermill": {
     "duration": 0.04153,
     "end_time": "2021-09-20T09:24:32.366541",
     "exception": false,
     "start_time": "2021-09-20T09:24:32.325011",
     "status": "completed"
    },
    "tags": []
   },
   "outputs": [],
   "source": [
    "genderMap = {'male' : 0, 'female' : 1}\n",
    "data = [train_df, test_df]\n",
    "\n",
    "for dataset in data:\n",
    "    dataset['Sex'] = dataset['Sex'].map(genderMap)"
   ]
  },
  {
   "cell_type": "code",
   "execution_count": 17,
   "metadata": {
    "execution": {
     "iopub.execute_input": "2021-09-20T09:24:32.434425Z",
     "iopub.status.busy": "2021-09-20T09:24:32.433369Z",
     "iopub.status.idle": "2021-09-20T09:24:32.438372Z",
     "shell.execute_reply": "2021-09-20T09:24:32.437764Z",
     "shell.execute_reply.started": "2021-09-20T09:17:19.879873Z"
    },
    "papermill": {
     "duration": 0.042243,
     "end_time": "2021-09-20T09:24:32.438525",
     "exception": false,
     "start_time": "2021-09-20T09:24:32.396282",
     "status": "completed"
    },
    "tags": []
   },
   "outputs": [
    {
     "data": {
      "text/plain": [
       "0    577\n",
       "1    314\n",
       "Name: Sex, dtype: int64"
      ]
     },
     "execution_count": 17,
     "metadata": {},
     "output_type": "execute_result"
    }
   ],
   "source": [
    "train_df['Sex'].value_counts()"
   ]
  },
  {
   "cell_type": "code",
   "execution_count": 18,
   "metadata": {
    "execution": {
     "iopub.execute_input": "2021-09-20T09:24:32.501049Z",
     "iopub.status.busy": "2021-09-20T09:24:32.500398Z",
     "iopub.status.idle": "2021-09-20T09:24:32.508041Z",
     "shell.execute_reply": "2021-09-20T09:24:32.508510Z",
     "shell.execute_reply.started": "2021-09-20T09:17:19.895682Z"
    },
    "papermill": {
     "duration": 0.040752,
     "end_time": "2021-09-20T09:24:32.508687",
     "exception": false,
     "start_time": "2021-09-20T09:24:32.467935",
     "status": "completed"
    },
    "tags": []
   },
   "outputs": [],
   "source": [
    "embarkedMap = {'S': 0, 'C': 1, 'Q': 2}\n",
    "data = [train_df, test_df]\n",
    "\n",
    "for dataset in data:\n",
    "    dataset['Embarked'] = dataset['Embarked'].map(embarkedMap)"
   ]
  },
  {
   "cell_type": "code",
   "execution_count": 19,
   "metadata": {
    "execution": {
     "iopub.execute_input": "2021-09-20T09:24:32.570878Z",
     "iopub.status.busy": "2021-09-20T09:24:32.570200Z",
     "iopub.status.idle": "2021-09-20T09:24:32.584456Z",
     "shell.execute_reply": "2021-09-20T09:24:32.583581Z",
     "shell.execute_reply.started": "2021-09-20T09:17:19.907384Z"
    },
    "papermill": {
     "duration": 0.046761,
     "end_time": "2021-09-20T09:24:32.584642",
     "exception": false,
     "start_time": "2021-09-20T09:24:32.537881",
     "status": "completed"
    },
    "tags": []
   },
   "outputs": [
    {
     "name": "stdout",
     "output_type": "stream",
     "text": [
      "<class 'pandas.core.frame.DataFrame'>\n",
      "RangeIndex: 891 entries, 0 to 890\n",
      "Data columns (total 7 columns):\n",
      " #   Column       Non-Null Count  Dtype\n",
      "---  ------       --------------  -----\n",
      " 0   PassengerId  891 non-null    int64\n",
      " 1   Survived     891 non-null    int64\n",
      " 2   Pclass       891 non-null    int64\n",
      " 3   Sex          891 non-null    int64\n",
      " 4   SibSp        891 non-null    int64\n",
      " 5   Parch        891 non-null    int64\n",
      " 6   Embarked     891 non-null    int64\n",
      "dtypes: int64(7)\n",
      "memory usage: 48.9 KB\n"
     ]
    }
   ],
   "source": [
    "train_df.info()"
   ]
  },
  {
   "cell_type": "code",
   "execution_count": 20,
   "metadata": {
    "execution": {
     "iopub.execute_input": "2021-09-20T09:24:32.658494Z",
     "iopub.status.busy": "2021-09-20T09:24:32.657599Z",
     "iopub.status.idle": "2021-09-20T09:24:32.664433Z",
     "shell.execute_reply": "2021-09-20T09:24:32.663671Z",
     "shell.execute_reply.started": "2021-09-20T09:17:19.922625Z"
    },
    "papermill": {
     "duration": 0.049719,
     "end_time": "2021-09-20T09:24:32.664615",
     "exception": false,
     "start_time": "2021-09-20T09:24:32.614896",
     "status": "completed"
    },
    "tags": []
   },
   "outputs": [
    {
     "name": "stdout",
     "output_type": "stream",
     "text": [
      "<class 'pandas.core.frame.DataFrame'>\n",
      "RangeIndex: 418 entries, 0 to 417\n",
      "Data columns (total 6 columns):\n",
      " #   Column       Non-Null Count  Dtype\n",
      "---  ------       --------------  -----\n",
      " 0   PassengerId  418 non-null    int64\n",
      " 1   Pclass       418 non-null    int64\n",
      " 2   Sex          418 non-null    int64\n",
      " 3   SibSp        418 non-null    int64\n",
      " 4   Parch        418 non-null    int64\n",
      " 5   Embarked     418 non-null    int64\n",
      "dtypes: int64(6)\n",
      "memory usage: 19.7 KB\n"
     ]
    }
   ],
   "source": [
    "test_df.info()"
   ]
  },
  {
   "cell_type": "markdown",
   "metadata": {
    "papermill": {
     "duration": 0.029158,
     "end_time": "2021-09-20T09:24:32.724074",
     "exception": false,
     "start_time": "2021-09-20T09:24:32.694916",
     "status": "completed"
    },
    "tags": []
   },
   "source": [
    "Seperating X's and Y's i.e. features and labels"
   ]
  },
  {
   "cell_type": "code",
   "execution_count": 21,
   "metadata": {
    "execution": {
     "iopub.execute_input": "2021-09-20T09:24:32.792534Z",
     "iopub.status.busy": "2021-09-20T09:24:32.791312Z",
     "iopub.status.idle": "2021-09-20T09:24:32.796534Z",
     "shell.execute_reply": "2021-09-20T09:24:32.795956Z",
     "shell.execute_reply.started": "2021-09-20T09:17:19.941020Z"
    },
    "papermill": {
     "duration": 0.042961,
     "end_time": "2021-09-20T09:24:32.796713",
     "exception": false,
     "start_time": "2021-09-20T09:24:32.753752",
     "status": "completed"
    },
    "tags": []
   },
   "outputs": [],
   "source": [
    "X_train = train_df.drop(['Survived', 'PassengerId'], axis=1)\n",
    "Y_train = train_df['Survived']"
   ]
  },
  {
   "cell_type": "code",
   "execution_count": 22,
   "metadata": {
    "execution": {
     "iopub.execute_input": "2021-09-20T09:24:32.865055Z",
     "iopub.status.busy": "2021-09-20T09:24:32.864387Z",
     "iopub.status.idle": "2021-09-20T09:24:32.866040Z",
     "shell.execute_reply": "2021-09-20T09:24:32.866621Z",
     "shell.execute_reply.started": "2021-09-20T09:17:19.952891Z"
    },
    "papermill": {
     "duration": 0.040027,
     "end_time": "2021-09-20T09:24:32.866823",
     "exception": false,
     "start_time": "2021-09-20T09:24:32.826796",
     "status": "completed"
    },
    "tags": []
   },
   "outputs": [],
   "source": [
    "X_test = test_df.drop('PassengerId', axis=1)"
   ]
  },
  {
   "cell_type": "markdown",
   "metadata": {
    "papermill": {
     "duration": 0.02983,
     "end_time": "2021-09-20T09:24:32.927031",
     "exception": false,
     "start_time": "2021-09-20T09:24:32.897201",
     "status": "completed"
    },
    "tags": []
   },
   "source": [
    "Select a model and train it."
   ]
  },
  {
   "cell_type": "code",
   "execution_count": 23,
   "metadata": {
    "execution": {
     "iopub.execute_input": "2021-09-20T09:24:32.991341Z",
     "iopub.status.busy": "2021-09-20T09:24:32.990664Z",
     "iopub.status.idle": "2021-09-20T09:24:34.098244Z",
     "shell.execute_reply": "2021-09-20T09:24:34.097533Z",
     "shell.execute_reply.started": "2021-09-20T09:18:49.534992Z"
    },
    "papermill": {
     "duration": 1.140405,
     "end_time": "2021-09-20T09:24:34.098422",
     "exception": false,
     "start_time": "2021-09-20T09:24:32.958017",
     "status": "completed"
    },
    "tags": []
   },
   "outputs": [],
   "source": [
    "from sklearn.linear_model import LogisticRegression\n",
    "\n",
    "clf = LogisticRegression(random_state = 0)\n",
    "clf.fit(X_train, Y_train)\n",
    "\n",
    "Y_pred = clf.predict(X_test)"
   ]
  },
  {
   "cell_type": "code",
   "execution_count": 24,
   "metadata": {
    "execution": {
     "iopub.execute_input": "2021-09-20T09:24:34.169045Z",
     "iopub.status.busy": "2021-09-20T09:24:34.168133Z",
     "iopub.status.idle": "2021-09-20T09:24:34.171732Z",
     "shell.execute_reply": "2021-09-20T09:24:34.172210Z",
     "shell.execute_reply.started": "2021-09-20T09:18:57.307066Z"
    },
    "papermill": {
     "duration": 0.043763,
     "end_time": "2021-09-20T09:24:34.172426",
     "exception": false,
     "start_time": "2021-09-20T09:24:34.128663",
     "status": "completed"
    },
    "tags": []
   },
   "outputs": [
    {
     "data": {
      "text/plain": [
       "array([0, 1, 0, 0, 1, 0, 1, 0, 1, 0, 0, 0, 1, 0, 1, 1, 0, 0, 1, 1, 0, 0,\n",
       "       1, 0, 1, 0, 1, 0, 0, 0, 0, 0, 1, 1, 0, 0, 1, 1, 0, 0, 0, 0, 0, 1,\n",
       "       1, 0, 0, 0, 1, 1, 0, 0, 1, 1, 0, 0, 0, 0, 0, 1, 0, 0, 0, 1, 0, 1,\n",
       "       1, 0, 0, 1, 1, 0, 1, 0, 1, 0, 0, 1, 0, 1, 0, 0, 0, 0, 0, 0, 1, 1,\n",
       "       1, 0, 1, 0, 1, 0, 0, 0, 1, 0, 1, 0, 1, 0, 0, 0, 1, 0, 0, 0, 0, 0,\n",
       "       0, 1, 1, 1, 1, 0, 0, 1, 0, 1, 1, 0, 1, 0, 0, 1, 0, 1, 0, 0, 0, 0,\n",
       "       1, 0, 0, 0, 0, 0, 1, 0, 0, 1, 0, 0, 0, 0, 0, 0, 0, 0, 1, 0, 0, 1,\n",
       "       0, 0, 1, 1, 0, 1, 1, 0, 1, 0, 0, 1, 0, 0, 1, 1, 0, 0, 0, 0, 0, 1,\n",
       "       1, 0, 1, 1, 0, 0, 1, 0, 1, 0, 1, 0, 0, 0, 0, 0, 0, 0, 0, 0, 0, 1,\n",
       "       0, 1, 1, 0, 0, 1, 0, 0, 1, 0, 1, 0, 0, 0, 0, 1, 0, 0, 1, 0, 1, 0,\n",
       "       1, 0, 1, 0, 1, 1, 0, 1, 0, 0, 0, 1, 0, 0, 0, 0, 0, 0, 1, 1, 1, 1,\n",
       "       0, 0, 0, 0, 1, 0, 1, 1, 1, 0, 0, 0, 0, 0, 0, 0, 1, 0, 0, 0, 1, 1,\n",
       "       0, 0, 0, 0, 1, 0, 0, 0, 1, 1, 0, 1, 0, 0, 0, 0, 1, 0, 1, 1, 1, 0,\n",
       "       0, 0, 0, 0, 0, 1, 0, 0, 0, 0, 1, 0, 0, 0, 0, 0, 0, 0, 1, 1, 0, 0,\n",
       "       0, 1, 0, 0, 0, 1, 1, 1, 0, 0, 0, 0, 0, 0, 0, 0, 1, 0, 1, 0, 0, 0,\n",
       "       1, 0, 0, 1, 0, 0, 0, 0, 0, 0, 0, 0, 0, 1, 0, 1, 0, 1, 0, 1, 1, 0,\n",
       "       0, 0, 1, 0, 1, 0, 0, 1, 0, 1, 1, 0, 1, 1, 0, 1, 1, 0, 0, 1, 0, 0,\n",
       "       1, 1, 1, 0, 0, 0, 0, 0, 1, 1, 0, 1, 0, 0, 0, 0, 0, 1, 0, 0, 0, 1,\n",
       "       0, 1, 0, 0, 1, 0, 1, 0, 0, 0, 0, 0, 1, 1, 1, 1, 1, 0, 1, 0, 0, 0])"
      ]
     },
     "execution_count": 24,
     "metadata": {},
     "output_type": "execute_result"
    }
   ],
   "source": [
    "Y_pred"
   ]
  },
  {
   "cell_type": "markdown",
   "metadata": {
    "papermill": {
     "duration": 0.0302,
     "end_time": "2021-09-20T09:24:34.233081",
     "exception": false,
     "start_time": "2021-09-20T09:24:34.202881",
     "status": "completed"
    },
    "tags": []
   },
   "source": [
    "Model Evaluation"
   ]
  },
  {
   "cell_type": "code",
   "execution_count": 25,
   "metadata": {
    "execution": {
     "iopub.execute_input": "2021-09-20T09:24:34.299182Z",
     "iopub.status.busy": "2021-09-20T09:24:34.298177Z",
     "iopub.status.idle": "2021-09-20T09:24:34.307098Z",
     "shell.execute_reply": "2021-09-20T09:24:34.307612Z",
     "shell.execute_reply.started": "2021-09-20T09:20:40.898597Z"
    },
    "papermill": {
     "duration": 0.044065,
     "end_time": "2021-09-20T09:24:34.307812",
     "exception": false,
     "start_time": "2021-09-20T09:24:34.263747",
     "status": "completed"
    },
    "tags": []
   },
   "outputs": [
    {
     "data": {
      "text/plain": [
       "80.25"
      ]
     },
     "execution_count": 25,
     "metadata": {},
     "output_type": "execute_result"
    }
   ],
   "source": [
    "acc_logistic = round(clf.score(X_train, Y_train)*100, 2)\n",
    "\n",
    "acc_logistic"
   ]
  },
  {
   "cell_type": "markdown",
   "metadata": {
    "papermill": {
     "duration": 0.031528,
     "end_time": "2021-09-20T09:24:34.370223",
     "exception": false,
     "start_time": "2021-09-20T09:24:34.338695",
     "status": "completed"
    },
    "tags": []
   },
   "source": [
    "Submission for the Baseline"
   ]
  },
  {
   "cell_type": "code",
   "execution_count": 26,
   "metadata": {
    "execution": {
     "iopub.execute_input": "2021-09-20T09:24:34.437582Z",
     "iopub.status.busy": "2021-09-20T09:24:34.436898Z",
     "iopub.status.idle": "2021-09-20T09:24:34.447934Z",
     "shell.execute_reply": "2021-09-20T09:24:34.448538Z",
     "shell.execute_reply.started": "2021-09-20T09:23:41.995902Z"
    },
    "papermill": {
     "duration": 0.046924,
     "end_time": "2021-09-20T09:24:34.448759",
     "exception": false,
     "start_time": "2021-09-20T09:24:34.401835",
     "status": "completed"
    },
    "tags": []
   },
   "outputs": [
    {
     "name": "stdout",
     "output_type": "stream",
     "text": [
      "Submission was successfully saved!\n"
     ]
    }
   ],
   "source": [
    "output = pd.DataFrame({'PassengerId': test_df.PassengerId, 'Survived': Y_pred})\n",
    "output.to_csv('my_submission.csv', index=False)\n",
    "print(\"Submission was successfully saved!\")"
   ]
  },
  {
   "cell_type": "code",
   "execution_count": null,
   "metadata": {
    "papermill": {
     "duration": 0.031434,
     "end_time": "2021-09-20T09:24:34.511972",
     "exception": false,
     "start_time": "2021-09-20T09:24:34.480538",
     "status": "completed"
    },
    "tags": []
   },
   "outputs": [],
   "source": []
  }
 ],
 "metadata": {
  "kernelspec": {
   "display_name": "Python 3",
   "language": "python",
   "name": "python3"
  },
  "language_info": {
   "codemirror_mode": {
    "name": "ipython",
    "version": 3
   },
   "file_extension": ".py",
   "mimetype": "text/x-python",
   "name": "python",
   "nbconvert_exporter": "python",
   "pygments_lexer": "ipython3",
   "version": "3.7.6"
  },
  "papermill": {
   "default_parameters": {},
   "duration": 12.636005,
   "end_time": "2021-09-20T09:24:35.255029",
   "environment_variables": {},
   "exception": null,
   "input_path": "__notebook__.ipynb",
   "output_path": "__notebook__.ipynb",
   "parameters": {},
   "start_time": "2021-09-20T09:24:22.619024",
   "version": "2.3.3"
  }
 },
 "nbformat": 4,
 "nbformat_minor": 5
}
